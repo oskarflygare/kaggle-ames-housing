{
 "cells": [
  {
   "cell_type": "markdown",
   "id": "5c6ca71f9663aa2e",
   "metadata": {},
   "source": [
    "# XGBoost using sklearn"
   ]
  },
  {
   "cell_type": "code",
   "execution_count": 3,
   "id": "7035fb7c8df4b426",
   "metadata": {
    "ExecuteTime": {
     "end_time": "2023-11-18T14:36:13.408321Z",
     "start_time": "2023-11-18T14:36:13.401769Z"
    }
   },
   "outputs": [],
   "source": [
    "from sklearn.compose import ColumnTransformer\n",
    "from sklearn.pipeline import Pipeline\n",
    "from sklearn.preprocessing import OneHotEncoder, MinMaxScaler\n",
    "from sklearn.model_selection import train_test_split\n",
    "from sklearn.impute import SimpleImputer\n",
    "from sklearn.ensemble import GradientBoostingRegressor\n",
    "import pandas as pd"
   ]
  },
  {
   "cell_type": "code",
   "execution_count": 4,
   "id": "6650c5c8a9a0e440",
   "metadata": {
    "ExecuteTime": {
     "end_time": "2023-11-18T14:36:33.608197Z",
     "start_time": "2023-11-18T14:36:33.585253Z"
    }
   },
   "outputs": [],
   "source": [
    "df_train = pd.read_csv(\"data/train.csv\")"
   ]
  },
  {
   "cell_type": "code",
   "execution_count": 5,
   "id": "9c2637a385147d36",
   "metadata": {
    "ExecuteTime": {
     "end_time": "2023-11-18T14:37:41.759302Z",
     "start_time": "2023-11-18T14:37:41.752461Z"
    }
   },
   "outputs": [],
   "source": [
    "cols_to_keep = [\"ExterQual\", \"LotArea\", \"YrSold\", \"SalePrice\"]"
   ]
  },
  {
   "cell_type": "code",
   "execution_count": 6,
   "id": "68186f99c767c0ff",
   "metadata": {
    "ExecuteTime": {
     "end_time": "2023-11-18T14:37:58.601624Z",
     "start_time": "2023-11-18T14:37:58.595641Z"
    }
   },
   "outputs": [],
   "source": [
    "df = df_train[cols_to_keep]"
   ]
  },
  {
   "cell_type": "code",
   "execution_count": 7,
   "id": "3c039bf35259f2de",
   "metadata": {
    "ExecuteTime": {
     "end_time": "2023-11-18T14:39:39.078302Z",
     "start_time": "2023-11-18T14:39:39.067268Z"
    }
   },
   "outputs": [],
   "source": [
    "y = df[\"SalePrice\"]\n",
    "X = df.drop([\"SalePrice\"], axis = 1)"
   ]
  },
  {
   "cell_type": "markdown",
   "id": "a2e06b54a701db0e",
   "metadata": {},
   "source": [
    "# Split data into train and test"
   ]
  },
  {
   "cell_type": "code",
   "execution_count": 10,
   "id": "fb145421558b2515",
   "metadata": {
    "ExecuteTime": {
     "end_time": "2023-11-18T14:42:48.856082Z",
     "start_time": "2023-11-18T14:42:48.779629Z"
    }
   },
   "outputs": [
    {
     "name": "stdout",
     "output_type": "stream",
     "text": [
      "Pipeline score: 0.6329993775542335\n"
     ]
    }
   ],
   "source": [
    "# Split data into train and test sets\n",
    "X_train, X_test, y_train, y_test = train_test_split(X, y, test_size=0.2, random_state=42)\n",
    "\n",
    "# Define which columns should be one-hot encoded and which should be scaled\n",
    "categorical_cols = ['YrSold', 'ExterQual']\n",
    "numeric_cols = ['LotArea']\n",
    "\n",
    "# Preprocessing steps for different column types\n",
    "preprocessor = ColumnTransformer(\n",
    "    transformers=[\n",
    "        ('num', MinMaxScaler(), numeric_cols),  # MinMaxScaler for numeric columns\n",
    "        ('cat', OneHotEncoder(), categorical_cols)  # OneHotEncoder for categorical columns\n",
    "    ])\n",
    "\n",
    "# Create the full pipeline\n",
    "pipeline = Pipeline(steps=[\n",
    "    ('preprocessor', preprocessor),  # Preprocessing step\n",
    "    ('model', GradientBoostingRegressor())  # XGBoost model\n",
    "])\n",
    "\n",
    "# Fit the pipeline (including preprocessing and model) on the training data\n",
    "pipeline.fit(X_train, y_train)\n",
    "\n",
    "# Evaluate the pipeline on the test set\n",
    "score = pipeline.score(X_test, y_test)\n",
    "print(\"Pipeline score:\", score)"
   ]
  },
  {
   "cell_type": "code",
   "execution_count": null,
   "id": "dad3434f6857642d",
   "metadata": {},
   "outputs": [],
   "source": []
  },
  {
   "cell_type": "code",
   "execution_count": null,
   "outputs": [],
   "source": [],
   "metadata": {
    "collapsed": false
   },
   "id": "efc940e7d20af5d9"
  },
  {
   "cell_type": "code",
   "execution_count": null,
   "outputs": [],
   "source": [],
   "metadata": {
    "collapsed": false
   },
   "id": "1cd5aca260c06432"
  }
 ],
 "metadata": {
  "kernelspec": {
   "display_name": "Python 3 (ipykernel)",
   "language": "python",
   "name": "python3"
  },
  "language_info": {
   "codemirror_mode": {
    "name": "ipython",
    "version": 3
   },
   "file_extension": ".py",
   "mimetype": "text/x-python",
   "name": "python",
   "nbconvert_exporter": "python",
   "pygments_lexer": "ipython3",
   "version": "3.11.5"
  }
 },
 "nbformat": 4,
 "nbformat_minor": 5
}
